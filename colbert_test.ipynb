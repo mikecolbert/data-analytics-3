{
 "cells": [
  {
   "cell_type": "code",
   "execution_count": null,
   "id": "1ec251a9-c54e-4869-b5f5-b709351e848b",
   "metadata": {},
   "outputs": [],
   "source": [
    "import os\n",
    "\n",
    "import black\n",
    "import flake8\n",
    "\n",
    "print(black.__version__)\n",
    "print(flake8.__version__)"
   ]
  },
  {
   "cell_type": "code",
   "execution_count": null,
   "id": "bb316206-156b-4edd-b957-053fbcab561a",
   "metadata": {},
   "outputs": [],
   "source": [
    "os.system('echo \"Hello from the OS!\"')"
   ]
  },
  {
   "cell_type": "code",
   "execution_count": null,
   "id": "e637e319-3f14-4c0a-972f-a922fb1d8fca",
   "metadata": {},
   "outputs": [],
   "source": [
    "# Your code here\n",
    "\n",
    "\n",
    "def example_function():\n",
    "    x = [1, 2, 3, 4]\n",
    "    return x"
   ]
  },
  {
   "cell_type": "code",
   "execution_count": null,
   "id": "4eec81f9-1097-4163-82e4-315b3f8b481a",
   "metadata": {},
   "outputs": [],
   "source": [
    "example_function()"
   ]
  },
  {
   "cell_type": "code",
   "execution_count": null,
   "id": "5f6a5f8e-07b2-477d-b853-9c3c19f7fd42",
   "metadata": {},
   "outputs": [],
   "source": [
    "x = 3\n",
    "y = 4\n",
    "z = x + y\n",
    "print(z)"
   ]
  },
  {
   "cell_type": "markdown",
   "id": "0aa9028c-f1a8-410c-81a4-fcd24736e830",
   "metadata": {},
   "source": [
    "Colbert"
   ]
  },
  {
   "cell_type": "code",
   "execution_count": null,
   "id": "dad2d4f4-e0ae-4e75-83fd-2b446edc36f7",
   "metadata": {},
   "outputs": [],
   "source": []
  }
 ],
 "metadata": {
  "kernelspec": {
   "display_name": "Python 3 (ipykernel)",
   "language": "python",
   "name": "python3"
  },
  "language_info": {
   "codemirror_mode": {
    "name": "ipython",
    "version": 3
   },
   "file_extension": ".py",
   "mimetype": "text/x-python",
   "name": "python",
   "nbconvert_exporter": "python",
   "pygments_lexer": "ipython3",
   "version": "3.12.2"
  }
 },
 "nbformat": 4,
 "nbformat_minor": 5
}
