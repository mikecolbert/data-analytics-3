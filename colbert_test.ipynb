{
 "cells": [
  {
   "cell_type": "markdown",
   "id": "c8fdf04c-dd2e-4b0b-838f-049b9b7c4dbb",
   "metadata": {},
   "source": [
    "Test"
   ]
  },
  {
   "cell_type": "code",
   "execution_count": 3,
   "id": "1ec251a9-c54e-4869-b5f5-b709351e848b",
   "metadata": {},
   "outputs": [
    {
     "name": "stdout",
     "output_type": "stream",
     "text": [
      "24.10.0\n",
      "7.1.1\n"
     ]
    }
   ],
   "source": [
    "import os\n",
    "\n",
    "import black\n",
    "import flake8\n",
    "\n",
    "print(black.__version__)\n",
    "print(flake8.__version__)"
   ]
  },
  {
   "cell_type": "code",
   "execution_count": 4,
   "id": "bb316206-156b-4edd-b957-053fbcab561a",
   "metadata": {},
   "outputs": [
    {
     "name": "stdout",
     "output_type": "stream",
     "text": [
      "Hello from the OS!\n"
     ]
    },
    {
     "data": {
      "text/plain": [
       "0"
      ]
     },
     "execution_count": 4,
     "metadata": {},
     "output_type": "execute_result"
    }
   ],
   "source": [
    "os.system('echo \"Hello from the OS!\"')"
   ]
  },
  {
   "cell_type": "code",
   "execution_count": 5,
   "id": "e637e319-3f14-4c0a-972f-a922fb1d8fca",
   "metadata": {},
   "outputs": [],
   "source": [
    "# Your code here\n",
    "\n",
    "\n",
    "def example_function():\n",
    "    x = [1, 2, 3, 4]\n",
    "    return x"
   ]
  },
  {
   "cell_type": "code",
   "execution_count": 6,
   "id": "4eec81f9-1097-4163-82e4-315b3f8b481a",
   "metadata": {},
   "outputs": [
    {
     "data": {
      "text/plain": [
       "[1, 2, 3, 4]"
      ]
     },
     "execution_count": 6,
     "metadata": {},
     "output_type": "execute_result"
    }
   ],
   "source": [
    "example_function()"
   ]
  }
 ],
 "metadata": {
  "kernelspec": {
   "display_name": "Python 3 (ipykernel)",
   "language": "python",
   "name": "python3"
  },
  "language_info": {
   "codemirror_mode": {
    "name": "ipython",
    "version": 3
   },
   "file_extension": ".py",
   "mimetype": "text/x-python",
   "name": "python",
   "nbconvert_exporter": "python",
   "pygments_lexer": "ipython3",
   "version": "3.12.2"
  }
 },
 "nbformat": 4,
 "nbformat_minor": 5
}
