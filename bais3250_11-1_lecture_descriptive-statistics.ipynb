{
 "cells": [
  {
   "cell_type": "markdown",
   "id": "0",
   "metadata": {},
   "source": [
    "# BAIS:3250 - Data Wrangling\n",
    "## Descriptive Statistics\n",
    "___ \n"
   ]
  },
  {
   "cell_type": "markdown",
   "id": "1",
   "metadata": {},
   "source": [
    "Libraries used:\n",
    "\n",
    "- _**pandas**_ for dataframes and data wrangling functions\n",
    "- _**matplotlib**_ for creating simple plots when performing exploratory data analysis\n",
    "- _**seaborn**_ is a high-level interface for creating visually appealing and informative statistical graphics\n",
    "- _**scipy.stats**_ are tools for both basic and advanced statistical operations\n"
   ]
  },
  {
   "cell_type": "code",
   "execution_count": null,
   "id": "2",
   "metadata": {},
   "outputs": [],
   "source": [
    "from IPython.html.services.config import ConfigManager\n",
    "\n",
    "ip = get_ipython()\n",
    "cm = ConfigManager(parent=ip)\n",
    "cm.update(\"notebook\", {\"ruler_column\": [80]})"
   ]
  },
  {
   "cell_type": "code",
   "execution_count": null,
   "id": "3",
   "metadata": {},
   "outputs": [],
   "source": [
    "import matplotlib.pyplot as plt\n",
    "import pandas as pd\n",
    "import scipy.stats as stats\n",
    "import seaborn as sns\n",
    "from IPython.display import display\n",
    "from scipy.stats import chi2_contingency, pearsonr"
   ]
  },
  {
   "cell_type": "markdown",
   "id": "4",
   "metadata": {},
   "source": [
    "### Read data into a pandas DataFrame"
   ]
  },
  {
   "cell_type": "code",
   "execution_count": null,
   "id": "5",
   "metadata": {},
   "outputs": [],
   "source": [
    "# read in pipe delimited file named mortgage.txt\n",
    "mortgage_df = pd.read_csv(\"mortgage.txt\", encoding=\"utf-8\", sep=\"|\")\n",
    "\n",
    "display(mortgage_df)"
   ]
  },
  {
   "cell_type": "markdown",
   "id": "6",
   "metadata": {},
   "source": [
    "### Statistics for One Continuous Variable"
   ]
  },
  {
   "cell_type": "code",
   "execution_count": null,
   "id": "7",
   "metadata": {},
   "outputs": [],
   "source": [
    "print(mortgage_df[\"CreditScore\"].unique())\n",
    "print(mortgage_df[\"CreditScore\"].isna().sum())"
   ]
  },
  {
   "cell_type": "code",
   "execution_count": null,
   "id": "8",
   "metadata": {},
   "outputs": [],
   "source": [
    "mortgage_df.dtypes"
   ]
  },
  {
   "cell_type": "markdown",
   "id": "9",
   "metadata": {},
   "source": [
    "<font color=\"darkmagenta\">CreditScore is a numeric data type.</font>"
   ]
  },
  {
   "cell_type": "markdown",
   "id": "10",
   "metadata": {},
   "source": [
    "<br>"
   ]
  },
  {
   "cell_type": "markdown",
   "id": "11",
   "metadata": {},
   "source": [
    "#### .describe() function\n",
    "\n",
    "The ```.describe()``` function will automatically calculate many statistics for you with a single function."
   ]
  },
  {
   "cell_type": "code",
   "execution_count": null,
   "id": "12",
   "metadata": {},
   "outputs": [],
   "source": [
    "# use the .describe() function\n",
    "descriptive_stats = mortgage_df[\"CreditScore\"].describe()\n",
    "\n",
    "# descriptive statistics\n",
    "print(descriptive_stats)"
   ]
  },
  {
   "cell_type": "code",
   "execution_count": null,
   "id": "13",
   "metadata": {},
   "outputs": [],
   "source": [
    "print(mortgage_df.describe())"
   ]
  },
  {
   "cell_type": "markdown",
   "id": "14",
   "metadata": {},
   "source": [
    "<br>"
   ]
  },
  {
   "cell_type": "markdown",
   "id": "15",
   "metadata": {},
   "source": [
    "#### Manually calculate descriptive statistics"
   ]
  },
  {
   "cell_type": "code",
   "execution_count": null,
   "id": "16",
   "metadata": {},
   "outputs": [],
   "source": [
    "# define the dataframe and column we are studying\n",
    "column = mortgage_df[\"CreditScore\"]\n",
    "column_name = \"CreditScore\""
   ]
  },
  {
   "cell_type": "code",
   "execution_count": null,
   "id": "17",
   "metadata": {},
   "outputs": [],
   "source": [
    "print(f\"Statistics of the {column_name} column\")\n",
    "print(\"-\" * 50)\n",
    "\n",
    "print(f\"{column_name} count: {column.count()}\")  # number of non-null entries\n",
    "print(f\"{column_name} mean: {column.mean()}\")  # sum of all values / n\n",
    "\n",
    "\n",
    "# spread describes the extremes and variation\n",
    "print(f\"{column_name} min: {column.min()}\")\n",
    "print(f\"{column_name} 25%: {column.quantile(0.25)}\")  # 25th percentile\n",
    "print(\n",
    "    f\"{column_name} median (50%): {column.median()}\"\n",
    ")  # 50th percentile (same as 2nd quartile)\n",
    "print(f\"{column_name} 75%: {column.quantile(0.75)}\")  # 75th percentile\n",
    "print(f\"{column_name} max: {column.max()}\")\n",
    "print(\n",
    "    f\"{column_name} interquartile range (IQR): {column.quantile(0.75) - column.quantile(0.25)}\"\n",
    ")\n",
    "print(f\"{column_name} range: {column.max() - column.min()}\")\n",
    "\n",
    "# the most frequent value(s)\n",
    "# - if multiple modes exist, it returns all of them as a Series\n",
    "modes = column.mode()\n",
    "# handle cases where there are multiple modes\n",
    "if len(modes) > 1:\n",
    "    print(f\"{column_name} modes: {list(modes)}\")\n",
    "else:\n",
    "    print(f\"{column_name} mode:  {modes[0]}\")\n",
    "\n",
    "print(\"-\" * 10)\n",
    "\n",
    "# average of squared difference between each data point and the mean\n",
    "print(f\"{column_name} variance: {column.var()}\")\n",
    "print(f\"{column_name} std_dev: {column.std()}\")  # square root of variance\n",
    "\n",
    "\n",
    "print(f\"{column_name} skewness: {column.skew()}\")\n",
    "\n",
    "\n",
    "print(f\"{column_name} kurtosis: {column.kurt()}\")"
   ]
  },
  {
   "cell_type": "markdown",
   "id": "18",
   "metadata": {},
   "source": [
    "<br>"
   ]
  },
  {
   "cell_type": "markdown",
   "id": "19",
   "metadata": {},
   "source": [
    "#### Shape can be confirmed with visualization. Let's use _Seaborn_.\n",
    "\n",
    "##### Boxplot"
   ]
  },
  {
   "cell_type": "code",
   "execution_count": null,
   "id": "20",
   "metadata": {},
   "outputs": [],
   "source": [
    "# set plot size\n",
    "plt.figure(figsize=(8, 6))\n",
    "\n",
    "# create a box plot for 'CreditScore'\n",
    "sns.boxplot(x=column, color=\"skyblue\")\n",
    "\n",
    "# add title and labels\n",
    "plt.title(\"Box Plot of Credit Scores\", fontsize=16)\n",
    "plt.xlabel(\"Credit Score\", fontsize=12)\n",
    "\n",
    "# display the plot\n",
    "plt.show()"
   ]
  },
  {
   "cell_type": "markdown",
   "id": "21",
   "metadata": {},
   "source": [
    "<font color=\"darkmagenta\">Shape is symmetrical (not skewed), with few outliers.</font>"
   ]
  },
  {
   "cell_type": "markdown",
   "id": "22",
   "metadata": {},
   "source": [
    "##### Histogram."
   ]
  },
  {
   "cell_type": "code",
   "execution_count": null,
   "id": "23",
   "metadata": {},
   "outputs": [],
   "source": [
    "# set plot size\n",
    "plt.figure(figsize=(8, 6))\n",
    "\n",
    "# create a histogram for 'CreditScore'\n",
    "sns.histplot(column, bins=20, kde=True)\n",
    "\n",
    "# add title and labels\n",
    "plt.title(\"Histogram of Credit Scores\", fontsize=16)\n",
    "plt.xlabel(\"Credit Score\", fontsize=12)\n",
    "plt.ylabel(\"Frequency\", fontsize=12)\n",
    "\n",
    "# display the plot\n",
    "plt.show()"
   ]
  },
  {
   "cell_type": "markdown",
   "id": "24",
   "metadata": {},
   "source": [
    "<font color=\"darkmagenta\">Shape is symmetrical, and unimodal (one peak).  \n",
    "Somewhat bell-shaped (might be normally distributed).</font>  "
   ]
  },
  {
   "cell_type": "markdown",
   "id": "25",
   "metadata": {},
   "source": [
    "##### Check normality with a Q-Q plot.  \n",
    "A Quantile-Quantile plot compares actual quantiles to expected values under normal distribution "
   ]
  },
  {
   "cell_type": "markdown",
   "id": "26",
   "metadata": {},
   "source": [
    "```scipy.stats.probplot()``` creates the Q-Q plot.  \n",
    "```dist=\"norm\"``` specifies the theoretical distribution (normal) to compare against.  \n",
    "```plot=plt``` directs the plot to matplotlib for rendering."
   ]
  },
  {
   "cell_type": "code",
   "execution_count": null,
   "id": "27",
   "metadata": {},
   "outputs": [],
   "source": [
    "# create a Q-Q plot for 'CreditScore'\n",
    "stats.probplot(column, dist=\"norm\", plot=plt)\n",
    "\n",
    "# add title\n",
    "plt.title(\"Q-Q Plot of Credit Scores\")\n",
    "\n",
    "# display the plot\n",
    "plt.show()"
   ]
  },
  {
   "cell_type": "markdown",
   "id": "28",
   "metadata": {},
   "source": [
    "<font color=\"darkmagenta\">Marks stay close to the red line, suggesting that credit scores in the data are very close to a normal distribution.</font>"
   ]
  },
  {
   "cell_type": "markdown",
   "id": "29",
   "metadata": {},
   "source": [
    "<br>"
   ]
  },
  {
   "cell_type": "markdown",
   "id": "30",
   "metadata": {},
   "source": [
    "#### Shapiro-Wilk test\n",
    "The Shapiro test checks if a dataset follows a normal distribution.  \n",
    "**Null Hypothesis (H<sub>0</sub>)**: The data is normally distributed.  \n",
    "**Alternative Hypothesis (H<sub>1</sub>)**: The data is not normally distributed."
   ]
  },
  {
   "cell_type": "code",
   "execution_count": null,
   "id": "31",
   "metadata": {},
   "outputs": [],
   "source": [
    "# Shapiro-Wilk test for normality\n",
    "stat, p_value = stats.shapiro(column)\n",
    "\n",
    "# display the results\n",
    "print(f\"Shapiro-Wilk Test Statistic: {stat}\")\n",
    "print(f\"P-Value: {p_value}\")\n",
    "\n",
    "# interpretation\n",
    "alpha = 0.05  # Significance level\n",
    "if p_value > alpha:\n",
    "    print(\"The data follows a normal distribution (fail to reject H0).\")\n",
    "else:\n",
    "    print(\"The data does not follow a normal distribution (reject H0).\")"
   ]
  },
  {
   "cell_type": "markdown",
   "id": "32",
   "metadata": {},
   "source": [
    "<font color=\"darkmagenta\">Interpretation:  \n",
    "If **p-value > 0.05**, the data is normally distributed (fail to reject the null hypothesis H<sub>0</sub>).  \n",
    "If **p-value ≤ 0.05**, the data is not normally distributed (reject H<sub>0</sub>). </font>  "
   ]
  },
  {
   "cell_type": "markdown",
   "id": "33",
   "metadata": {},
   "source": [
    "<br>"
   ]
  },
  {
   "cell_type": "markdown",
   "id": "34",
   "metadata": {},
   "source": [
    "### Statistics for One Categorical Variable"
   ]
  },
  {
   "cell_type": "markdown",
   "id": "35",
   "metadata": {},
   "source": [
    "#### Make the column a _category_."
   ]
  },
  {
   "cell_type": "code",
   "execution_count": null,
   "id": "36",
   "metadata": {},
   "outputs": [],
   "source": [
    "print(mortgage_df[\"Default\"].unique())"
   ]
  },
  {
   "cell_type": "code",
   "execution_count": null,
   "id": "37",
   "metadata": {},
   "outputs": [],
   "source": [
    "# change the column to a categorical data type\n",
    "mortgage_df[\"Default\"] = mortgage_df[\"Default\"].astype(\"category\")"
   ]
  },
  {
   "cell_type": "code",
   "execution_count": null,
   "id": "38",
   "metadata": {},
   "outputs": [],
   "source": [
    "# verify it is a categorical data type\n",
    "print(mortgage_df[\"Default\"].dtypes)"
   ]
  },
  {
   "cell_type": "code",
   "execution_count": null,
   "id": "39",
   "metadata": {},
   "outputs": [],
   "source": [
    "# rename the categorical column values with meaningful labels\n",
    "mortgage_df[\"Default\"] = mortgage_df[\"Default\"].cat.rename_categories(\n",
    "    {1: \"Defaulted\", 0: \"Not Defaulted\"}\n",
    ")\n",
    "\n",
    "print(mortgage_df.head())"
   ]
  },
  {
   "cell_type": "markdown",
   "id": "40",
   "metadata": {},
   "source": [
    "#### Frequency counts"
   ]
  },
  {
   "cell_type": "code",
   "execution_count": null,
   "id": "41",
   "metadata": {},
   "outputs": [],
   "source": [
    "# define the dataframe and column we are studying\n",
    "column = mortgage_df[\"Default\"]\n",
    "column_name = \"Default\""
   ]
  },
  {
   "cell_type": "code",
   "execution_count": null,
   "id": "42",
   "metadata": {},
   "outputs": [],
   "source": [
    "# frequency counts\n",
    "default_counts = column.value_counts()\n",
    "print(\"Frequency Counts:\")\n",
    "print(default_counts)"
   ]
  },
  {
   "cell_type": "markdown",
   "id": "43",
   "metadata": {},
   "source": [
    "_Notice this is a Series and the row index are the values (Defaulted / Not Defaulted)._"
   ]
  },
  {
   "cell_type": "markdown",
   "id": "44",
   "metadata": {},
   "source": [
    "<br>"
   ]
  },
  {
   "cell_type": "markdown",
   "id": "45",
   "metadata": {},
   "source": [
    "Frequency counts sorted in descending order by **level**"
   ]
  },
  {
   "cell_type": "code",
   "execution_count": null,
   "id": "46",
   "metadata": {},
   "outputs": [],
   "source": [
    "# frequency counts sorted in descending order by the value\n",
    "default_counts = column.value_counts().sort_index(ascending=False)\n",
    "print(\"Frequency Counts (Sorted by Value):\")\n",
    "print(default_counts)"
   ]
  },
  {
   "cell_type": "markdown",
   "id": "47",
   "metadata": {},
   "source": [
    "Frequency counts sorted in descending order by **count value**"
   ]
  },
  {
   "cell_type": "code",
   "execution_count": null,
   "id": "48",
   "metadata": {},
   "outputs": [],
   "source": [
    "# frequency counts sorted in descending order by the count\n",
    "default_counts_sorted = column.value_counts().sort_values(ascending=False)\n",
    "print(\"\\nFrequency Counts (Sorted by Frequency):\")\n",
    "print(default_counts_sorted)"
   ]
  },
  {
   "cell_type": "markdown",
   "id": "49",
   "metadata": {},
   "source": [
    "<br>"
   ]
  },
  {
   "cell_type": "markdown",
   "id": "50",
   "metadata": {},
   "source": [
    "#### Proportions table"
   ]
  },
  {
   "cell_type": "markdown",
   "id": "51",
   "metadata": {},
   "source": [
    "A _proportions table_ is used to express counts as percentages or proportions of the total. It helps to understand the distribution of categorical data."
   ]
  },
  {
   "cell_type": "code",
   "execution_count": null,
   "id": "52",
   "metadata": {},
   "outputs": [],
   "source": [
    "# frequency counts\n",
    "default_counts = column.value_counts()\n",
    "\n",
    "# proportions table based on frequency counts\n",
    "proportions_table = default_counts / default_counts.sum()\n",
    "\n",
    "# Display the proportions table\n",
    "print(\"Proportions Table:\")\n",
    "print(proportions_table)"
   ]
  },
  {
   "cell_type": "markdown",
   "id": "53",
   "metadata": {},
   "source": [
    "<br>"
   ]
  },
  {
   "cell_type": "markdown",
   "id": "54",
   "metadata": {},
   "source": [
    "#### Visualizations"
   ]
  },
  {
   "cell_type": "markdown",
   "id": "55",
   "metadata": {},
   "source": [
    "##### Create a simple bar chart with Seaborn"
   ]
  },
  {
   "cell_type": "code",
   "execution_count": null,
   "id": "56",
   "metadata": {},
   "outputs": [],
   "source": [
    "# create a bar chart\n",
    "plt.figure(figsize=(8, 6))\n",
    "sns.barplot(x=default_counts.index, y=default_counts.values)\n",
    "\n",
    "# add title and labels\n",
    "plt.title(\"Frequency of Mortgage Defaults\", fontsize=16)\n",
    "plt.xlabel(\"Default (0 = Not Defaulted, 1 = Defaulted)\", fontsize=12)\n",
    "plt.ylabel(\"Count\", fontsize=12)\n",
    "\n",
    "# display the plot\n",
    "plt.show()"
   ]
  },
  {
   "cell_type": "markdown",
   "id": "57",
   "metadata": {},
   "source": [
    "<br>"
   ]
  },
  {
   "cell_type": "markdown",
   "id": "58",
   "metadata": {},
   "source": [
    "##### Create a _fancier_ bar chart with Seaborn"
   ]
  },
  {
   "cell_type": "code",
   "execution_count": null,
   "id": "59",
   "metadata": {},
   "outputs": [],
   "source": [
    "# convert 'Default' to string to use it as a hue\n",
    "mortgage_df[\"Default\"] = mortgage_df[\"Default\"].astype(str)\n",
    "\n",
    "# frequency counts of 'Default'\n",
    "default_counts = mortgage_df[\"Default\"].value_counts()\n",
    "\n",
    "# create a bar chart with different colors using hue\n",
    "plt.figure(figsize=(8, 6))\n",
    "ax = sns.barplot(\n",
    "    x=default_counts.index,\n",
    "    y=default_counts.values,\n",
    "    hue=default_counts.index,\n",
    "    palette=[\"skyblue\", \"salmon\"],\n",
    "    dodge=False,\n",
    "    legend=False,  # suppress the legend\n",
    ")\n",
    "\n",
    "# add title and labels\n",
    "plt.title(\"Frequency of Mortgage Defaults\", fontsize=16)\n",
    "# plt.xlabel(\"Default (0 = Not Defaulted, 1 = Defaulted)\", fontsize=12)\n",
    "plt.ylabel(\"Count\", fontsize=12)\n",
    "\n",
    "# annotate each bar with its value\n",
    "for container in ax.containers:\n",
    "    ax.bar_label(container, label_type=\"edge\", fontsize=12)\n",
    "\n",
    "# display the plot\n",
    "plt.show()"
   ]
  },
  {
   "cell_type": "markdown",
   "id": "60",
   "metadata": {},
   "source": [
    "##### Create a horizontal bar chart"
   ]
  },
  {
   "cell_type": "code",
   "execution_count": null,
   "id": "61",
   "metadata": {},
   "outputs": [],
   "source": [
    "# convert 'Default' to string to use it as a hue\n",
    "mortgage_df[\"Default\"] = mortgage_df[\"Default\"].astype(str)\n",
    "\n",
    "# frequency counts of 'Default'\n",
    "default_counts = mortgage_df[\"Default\"].value_counts()\n",
    "\n",
    "# create a horizontal bar chart with different colors using hue\n",
    "plt.figure(figsize=(8, 6))\n",
    "ax = sns.barplot(\n",
    "    y=default_counts.index,\n",
    "    x=default_counts.values,\n",
    "    hue=default_counts.index,\n",
    "    palette=[\"skyblue\", \"salmon\"],\n",
    "    dodge=False,\n",
    "    legend=False,  # Suppress the legend\n",
    ")\n",
    "\n",
    "# add title and labels\n",
    "plt.title(\"Frequency of Mortgage Defaults\", fontsize=16)\n",
    "# plt.ylabel(\"Default (0 = Not Defaulted, 1 = Defaulted)\", fontsize=12)\n",
    "plt.xlabel(\"Count\", fontsize=12)\n",
    "\n",
    "# annotate each bar with its value\n",
    "for container in ax.containers:\n",
    "    ax.bar_label(container, label_type=\"edge\", fontsize=12)\n",
    "\n",
    "# dDisplay the plot\n",
    "plt.show()"
   ]
  },
  {
   "cell_type": "markdown",
   "id": "62",
   "metadata": {},
   "source": [
    "##### Create a pie chart"
   ]
  },
  {
   "cell_type": "code",
   "execution_count": null,
   "id": "63",
   "metadata": {},
   "outputs": [],
   "source": [
    "# Frequency counts of 'Default'\n",
    "default_counts = mortgage_df[\"Default\"].value_counts()\n",
    "\n",
    "# Create a pie chart\n",
    "plt.figure(figsize=(8, 8))\n",
    "plt.pie(\n",
    "    default_counts,\n",
    "    labels=[\"Not Defaulted\", \"Defaulted\"],\n",
    "    autopct=\"%1.1f%%\",\n",
    "    startangle=90,\n",
    "    colors=[\"skyblue\", \"salmon\"],\n",
    "    wedgeprops={\"edgecolor\": \"black\"},\n",
    ")\n",
    "\n",
    "# Add title\n",
    "plt.title(\"Proportion of Mortgage Defaults\", fontsize=16)\n",
    "\n",
    "# Display the pie chart\n",
    "plt.show()"
   ]
  },
  {
   "cell_type": "markdown",
   "id": "64",
   "metadata": {},
   "source": [
    "_Note: Pie charts should not be used when there are many categories (rule of thumb: <= 5) or when categories overlap._"
   ]
  },
  {
   "cell_type": "markdown",
   "id": "65",
   "metadata": {},
   "source": [
    "<br>"
   ]
  },
  {
   "cell_type": "markdown",
   "id": "66",
   "metadata": {},
   "source": [
    "### Statistics for Two Categorical Variables \n",
    "\n",
    "Prepare the data"
   ]
  },
  {
   "cell_type": "code",
   "execution_count": null,
   "id": "67",
   "metadata": {},
   "outputs": [],
   "source": [
    "mortgage_df = pd.read_csv(\"mortgage.txt\", encoding=\"utf-8\", sep=\"|\")\n",
    "display(mortgage_df)"
   ]
  },
  {
   "cell_type": "code",
   "execution_count": null,
   "id": "68",
   "metadata": {},
   "outputs": [],
   "source": [
    "mortgage_df.isna().sum()"
   ]
  },
  {
   "cell_type": "code",
   "execution_count": null,
   "id": "69",
   "metadata": {},
   "outputs": [],
   "source": [
    "print(mortgage_df[\"Default\"].unique())\n",
    "print(mortgage_df[\"Year\"].unique())"
   ]
  },
  {
   "cell_type": "code",
   "execution_count": null,
   "id": "70",
   "metadata": {},
   "outputs": [],
   "source": [
    "print(mortgage_df[mortgage_df[\"Year\"] == \"-\"])\n",
    "\n",
    "# count the number of rows where 'Year' is '-'\n",
    "print(mortgage_df[mortgage_df[\"Year\"] == \"-\"].shape[0])"
   ]
  },
  {
   "cell_type": "code",
   "execution_count": null,
   "id": "71",
   "metadata": {},
   "outputs": [],
   "source": [
    "print(mortgage_df.shape)\n",
    "# remove rows where 'Year' is '-'\n",
    "mortgage_df = mortgage_df[mortgage_df[\"Year\"] != \"-\"].reset_index(drop=True)\n",
    "print(\"row dropped\")\n",
    "print(mortgage_df.shape)"
   ]
  },
  {
   "cell_type": "code",
   "execution_count": null,
   "id": "72",
   "metadata": {},
   "outputs": [],
   "source": [
    "# change the column to a categorical data type\n",
    "mortgage_df[\"Default\"] = mortgage_df[\"Default\"].astype(\"category\")\n",
    "mortgage_df[\"Year\"] = mortgage_df[\"Year\"].astype(\"category\")\n",
    "\n",
    "# verify it is a categorical data type\n",
    "print(mortgage_df[\"Default\"].dtypes)\n",
    "print(mortgage_df[\"Year\"].dtypes)"
   ]
  },
  {
   "cell_type": "markdown",
   "id": "73",
   "metadata": {},
   "source": [
    "<br>"
   ]
  },
  {
   "cell_type": "markdown",
   "id": "74",
   "metadata": {},
   "source": [
    "##### Compare frequency and proportion across groups"
   ]
  },
  {
   "cell_type": "code",
   "execution_count": null,
   "id": "75",
   "metadata": {},
   "outputs": [],
   "source": [
    "# create a frequency table for 'Default' and 'Year'\n",
    "frequency_table = pd.crosstab(mortgage_df[\"Default\"], mortgage_df[\"Year\"])\n",
    "\n",
    "# display the frequency table\n",
    "print(\"Frequency Table:\")\n",
    "print(frequency_table)"
   ]
  },
  {
   "cell_type": "markdown",
   "id": "76",
   "metadata": {},
   "source": [
    "```.crosstab()``` is used to create a contingency table, which summarizes the relationship between two or more categorical variables. This table is a bit confusing. Notice the difference between the row index of 0 and 1 (far left) and the value (1 (defaulted) & 0 (not defaulted)."
   ]
  },
  {
   "cell_type": "markdown",
   "id": "77",
   "metadata": {},
   "source": [
    "<font color=\"darkmagenta\">Interpretation: Number of non-defaults (0) stays fairly consistent from year to year, but more defaults increase in 2008 and 2009.</font>"
   ]
  },
  {
   "cell_type": "markdown",
   "id": "78",
   "metadata": {},
   "source": [
    "<br>"
   ]
  },
  {
   "cell_type": "markdown",
   "id": "79",
   "metadata": {},
   "source": [
    "##### Visualize the two categories with a stacked bar chart"
   ]
  },
  {
   "cell_type": "code",
   "execution_count": null,
   "id": "80",
   "metadata": {},
   "outputs": [],
   "source": [
    "# prepare the data: Melt the contingency table to long format\n",
    "default_year_table = pd.crosstab(\n",
    "    mortgage_df[\"Year\"], mortgage_df[\"Default\"]\n",
    ").reset_index()\n",
    "default_year_table = pd.melt(\n",
    "    default_year_table, id_vars=[\"Year\"], var_name=\"Default\", value_name=\"Count\"\n",
    ")\n",
    "\n",
    "# convert 'Default' column to categorical with proper labels\n",
    "default_year_table[\"Default\"] = (\n",
    "    default_year_table[\"Default\"].astype(int).map({0: \"Non-Default\", 1: \"Default\"})\n",
    ")\n",
    "\n",
    "# create the bar chart using Seaborn\n",
    "plt.figure(figsize=(10, 6))\n",
    "ax = sns.barplot(\n",
    "    data=default_year_table,\n",
    "    x=\"Year\",\n",
    "    y=\"Count\",\n",
    "    hue=\"Default\",\n",
    "    palette=[\"skyblue\", \"salmon\"],\n",
    ")\n",
    "\n",
    "# annotate each bar with its value\n",
    "for container in ax.containers:\n",
    "    ax.bar_label(container, fmt=\"%d\", label_type=\"edge\", fontsize=12)\n",
    "    # Annotate each bar with its value at the top of the bar\n",
    "\n",
    "# add title and labels\n",
    "plt.title(\"Number of Defaults vs. Non-Defaults per Year\", fontsize=16)\n",
    "plt.xlabel(\"Year\", fontsize=12)\n",
    "plt.ylabel(\"Count\", fontsize=12)\n",
    "\n",
    "# adjust the legend\n",
    "plt.legend(\n",
    "    title=\"Status\",\n",
    "    loc=\"upper center\",\n",
    "    bbox_to_anchor=(0.5, -0.1),\n",
    "    ncol=2,\n",
    "    frameon=False,\n",
    ")\n",
    "\n",
    "# display the plot\n",
    "plt.show()"
   ]
  },
  {
   "cell_type": "markdown",
   "id": "81",
   "metadata": {},
   "source": [
    "<font color=\"darkmagenta\">It looks like the number of non-defaults has remained steady, but the number of defaults seems to be increasing across the years.</font>"
   ]
  },
  {
   "cell_type": "markdown",
   "id": "82",
   "metadata": {},
   "source": [
    "<br>"
   ]
  },
  {
   "cell_type": "markdown",
   "id": "83",
   "metadata": {},
   "source": [
    "##### Joint Probablility Distribution  \n",
    "Total of entire table = 100%  "
   ]
  },
  {
   "cell_type": "code",
   "execution_count": null,
   "id": "84",
   "metadata": {},
   "outputs": [],
   "source": [
    "# Create a contingency table (similar to table() in R)\n",
    "contingency_table = pd.crosstab(mortgage_df[\"Default\"], mortgage_df[\"Year\"])\n",
    "\n",
    "# Calculate the joint probability distribution\n",
    "joint_probability = round(contingency_table / contingency_table.values.sum(), 2)\n",
    "\n",
    "# Display the joint probability distribution\n",
    "print(\"Joint Probability Distribution:\")\n",
    "print(joint_probability)"
   ]
  },
  {
   "cell_type": "markdown",
   "id": "85",
   "metadata": {},
   "source": [
    "<br>"
   ]
  },
  {
   "cell_type": "markdown",
   "id": "86",
   "metadata": {},
   "source": [
    "##### Marginal probability  \n",
    "Compare by row (row-wise)  "
   ]
  },
  {
   "cell_type": "code",
   "execution_count": null,
   "id": "87",
   "metadata": {},
   "outputs": [],
   "source": [
    "# create a contingency table for 'Default' and 'Year'\n",
    "contingency_table = pd.crosstab(mortgage_df[\"Default\"], mortgage_df[\"Year\"])"
   ]
  },
  {
   "cell_type": "code",
   "execution_count": null,
   "id": "88",
   "metadata": {},
   "outputs": [],
   "source": [
    "# calculate marginal probabilities by row (axis=1)\n",
    "marginal_probability_by_row = round(\n",
    "    contingency_table.div(contingency_table.sum(axis=1), axis=0), 2\n",
    ")\n",
    "\n",
    "# display the marginal probability distribution (by row)\n",
    "print(\"Marginal Probability Distribution (by row):\")\n",
    "print(marginal_probability_by_row)"
   ]
  },
  {
   "cell_type": "markdown",
   "id": "89",
   "metadata": {},
   "source": [
    "<font color=\"darkmagenta\">Interpretation: Majority of defaults occurred in 2008 and 2009, but that non-defaults are distributed evenly over the 3-year span.</font>"
   ]
  },
  {
   "cell_type": "markdown",
   "id": "90",
   "metadata": {},
   "source": [
    "<br>"
   ]
  },
  {
   "cell_type": "markdown",
   "id": "91",
   "metadata": {},
   "source": [
    "##### Marginal probability  \n",
    "Column-wise  "
   ]
  },
  {
   "cell_type": "code",
   "execution_count": null,
   "id": "92",
   "metadata": {},
   "outputs": [],
   "source": [
    "# calculate marginal probabilities by column (axis=0)\n",
    "marginal_probability_by_column = round(\n",
    "    contingency_table.div(contingency_table.sum(axis=0), axis=1), 2\n",
    ")\n",
    "\n",
    "# display the marginal probability distribution (by column)\n",
    "print(\"\\nMarginal Probability Distribution (by column):\")\n",
    "print(marginal_probability_by_column)"
   ]
  },
  {
   "cell_type": "markdown",
   "id": "93",
   "metadata": {},
   "source": [
    "<font color=\"darkmagenta\">Interpretation: Rate of default increased from 2007 (13% of mortgages) to 2008 (23%) to 2009 (30%)</font>"
   ]
  },
  {
   "cell_type": "markdown",
   "id": "94",
   "metadata": {},
   "source": [
    "<br>"
   ]
  },
  {
   "cell_type": "markdown",
   "id": "95",
   "metadata": {},
   "source": [
    "<font color=\"darkmagenta\">But are the differences in default rates significant?  </font>  "
   ]
  },
  {
   "cell_type": "markdown",
   "id": "96",
   "metadata": {},
   "source": [
    "<br>"
   ]
  },
  {
   "cell_type": "markdown",
   "id": "97",
   "metadata": {},
   "source": [
    "#### Chi-Square Test of Independence\n",
    "  \n",
    "Tests if there is an association between two categorical variables. This test evaluates how likely it is that any observed differences arose purely by chance.  \n",
    "  \n",
    "Hypotheses:  \n",
    "Null Hypothesis (H<sub>0</sub>): The two variables are independent (no association) if _p-value > 0.05_.  \n",
    "Alternative Hypothesis (H<sub>1</sub>): The two variables are dependent (associated) if _p-value <= 0.05_.  "
   ]
  },
  {
   "cell_type": "code",
   "execution_count": null,
   "id": "98",
   "metadata": {},
   "outputs": [],
   "source": [
    "# create a contingency table for 'Default' and 'Year'\n",
    "contingency_table = pd.crosstab(mortgage_df[\"Default\"], mortgage_df[\"Year\"])\n",
    "\n",
    "# perform the chi-square test\n",
    "chi2_stat, p_value, dof, expected = chi2_contingency(contingency_table)\n",
    "\n",
    "# display the p-value and interpretation\n",
    "print(f\"Chi-Square Test p-value: {p_value:.4f}\")\n",
    "\n",
    "# set the significance level (alpha)\n",
    "alpha = 0.05\n",
    "\n",
    "# interpret the result\n",
    "if p_value <= alpha:\n",
    "    print(\"Reject H0: The number of defaults vs. non-defaults is related to the year.\")\n",
    "else:\n",
    "    print(\n",
    "        \"Fail to reject H0: The number of defaults vs. non-defaults is independent of the year.\"\n",
    "    )"
   ]
  },
  {
   "cell_type": "markdown",
   "id": "99",
   "metadata": {},
   "source": [
    "<font color=\"darkmagenta\">Interpretation: p is much smaller than 0.05, thus we reject the null hypothesis that _Year_ and _Default_ are independent. _Year_ and _Default_ are dependent.</font>"
   ]
  },
  {
   "cell_type": "markdown",
   "id": "100",
   "metadata": {},
   "source": [
    "<br>"
   ]
  },
  {
   "cell_type": "markdown",
   "id": "101",
   "metadata": {},
   "source": [
    "### Statistics for Two Continuous Variables"
   ]
  },
  {
   "cell_type": "markdown",
   "id": "102",
   "metadata": {},
   "source": [
    "#### Pearson Correlation (Linear Correlation)\n",
    "\n",
    "Correlation measures the **strength and direction of the linear relationship** between two continuous variables (e.g., height vs. weight).\n",
    "\n",
    "It quantifies the degree to which two variables move together and is commonly denoted by the correlation coefficient _**r**_, which ranges from -1 to 1.\n",
    "**_r_ = 1**: Perfect positive linear relationship (as one variable increases, the other also increases).\n",
    "**_r_ = -1**: Perfect negative linear relationship (as one variable increases, the other decreases).\n",
    "**_r_ = 0**: No linear relationship between the variables.\n",
    "\n",
    "The Pearson correlation assumes that the data is continuous and normally distributed.\n",
    "\n",
    "The Kendall or Spearman correlations may be more appropriate for comparing ordinal, rank data.\n"
   ]
  },
  {
   "cell_type": "code",
   "execution_count": null,
   "id": "103",
   "metadata": {},
   "outputs": [],
   "source": [
    "# calculate Pearson correlation between 'CreditScore' and 'HomeAge'\n",
    "pearson_corr = mortgage_df[\"CreditScore\"].corr(mortgage_df[\"HomeAge\"], method=\"pearson\")\n",
    "\n",
    "# display the result\n",
    "print(f\"Pearson Correlation: {pearson_corr:.4f}\")\n",
    "\n",
    "# interpretation\n",
    "if abs(pearson_corr) < 0.3:\n",
    "    print(\"Interpretation: No or weak linear correlation.\")\n",
    "elif 0.3 <= abs(pearson_corr) < 0.7:\n",
    "    print(\"Interpretation: Moderate linear correlation.\")\n",
    "else:\n",
    "    print(\"Interpretation: Strong linear correlation.\")"
   ]
  },
  {
   "cell_type": "markdown",
   "id": "104",
   "metadata": {},
   "source": [
    "<font color=\"darkmagenta\">Interpretation: No linear correlation.</font>"
   ]
  },
  {
   "cell_type": "markdown",
   "id": "105",
   "metadata": {},
   "source": [
    "<br>"
   ]
  },
  {
   "cell_type": "markdown",
   "id": "106",
   "metadata": {},
   "source": [
    "#### Pearson Correlation Test\n",
    "\n",
    "The Pearson correlation test is statistical hypothesis test that checks whether the linear relationship found in the Pearson correlation is statistically significant or if it could have occurred by chance. The test provides a _**p-value**_ to help make this decision.\n",
    "\n",
    "Hypothesis test for significant correlation.   \n",
    "H<sub>0</sub> = no correlation  \n",
    "H<sub>1</sub> = correlation!=0  \n",
    "\n"
   ]
  },
  {
   "cell_type": "code",
   "execution_count": null,
   "id": "107",
   "metadata": {},
   "outputs": [],
   "source": [
    "# perform the Pearson correlation test\n",
    "corr_stat, p_value = pearsonr(mortgage_df[\"CreditScore\"], mortgage_df[\"HomeAge\"])\n",
    "\n",
    "# display the correlation statistic and p-value\n",
    "print(f\"Pearson Correlation Coefficient: {corr_stat:.4f}\")\n",
    "print(f\"P-value: {p_value:.4f}\")\n",
    "\n",
    "# interpretation based on p-value\n",
    "alpha = 0.05  # significance level\n",
    "\n",
    "if p_value > alpha:\n",
    "    print(\"Fail to reject H0: No significant correlation (correlation = 0).\")\n",
    "else:\n",
    "    print(\"Reject H0: Significant correlation exists (correlation != 0).\")"
   ]
  },
  {
   "cell_type": "markdown",
   "id": "108",
   "metadata": {},
   "source": [
    "<font color=\"darkmagenta\">Interpretation: p > 0.05, thus we fail to reject the null hypothesis that the correlation is 0. There is no correlation. </font>"
   ]
  },
  {
   "cell_type": "markdown",
   "id": "109",
   "metadata": {},
   "source": [
    "<br>"
   ]
  },
  {
   "cell_type": "markdown",
   "id": "110",
   "metadata": {},
   "source": [
    "##### Visualize relationships between continuous variables with **scatter plot**."
   ]
  },
  {
   "cell_type": "code",
   "execution_count": null,
   "id": "111",
   "metadata": {},
   "outputs": [],
   "source": [
    "# create the scatter plot with a regression line using Seaborn\n",
    "plt.figure(figsize=(8, 6))\n",
    "sns.regplot(\n",
    "    x=\"CreditScore\",\n",
    "    y=\"HomeAge\",\n",
    "    data=mortgage_df,\n",
    "    scatter_kws={\"s\": 50},  # adjust size of scatter points\n",
    "    line_kws={\"color\": \"red\"},  # set line color\n",
    ")\n",
    "\n",
    "# add axis labels and title\n",
    "plt.xlabel(\"Credit Score\", fontsize=12)\n",
    "plt.ylabel(\"Home Age\", fontsize=12)\n",
    "plt.title(\"Scatter Plot of Credit Score vs. Home Age\", fontsize=16)\n",
    "\n",
    "# display the plot\n",
    "plt.show()"
   ]
  },
  {
   "cell_type": "markdown",
   "id": "112",
   "metadata": {},
   "source": [
    "<font color=\"darkmagenta\">Interpretation: no linear relationship.</font>"
   ]
  }
 ],
 "metadata": {
  "kernelspec": {
   "display_name": "Python 3 (ipykernel)",
   "language": "python",
   "name": "python3"
  },
  "language_info": {
   "codemirror_mode": {
    "name": "ipython",
    "version": 3
   },
   "file_extension": ".py",
   "mimetype": "text/x-python",
   "name": "python",
   "nbconvert_exporter": "python",
   "pygments_lexer": "ipython3",
   "version": "3.12.2"
  }
 },
 "nbformat": 4,
 "nbformat_minor": 5
}
